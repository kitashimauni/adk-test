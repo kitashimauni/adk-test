{
 "cells": [
  {
   "cell_type": "code",
   "execution_count": 3,
   "metadata": {},
   "outputs": [
    {
     "data": {
      "text/plain": [
       "True"
      ]
     },
     "execution_count": 3,
     "metadata": {},
     "output_type": "execute_result"
    }
   ],
   "source": [
    "from dotenv import load_dotenv\n",
    "load_dotenv()"
   ]
  },
  {
   "cell_type": "code",
   "execution_count": 4,
   "metadata": {},
   "outputs": [],
   "source": [
    "import datetime\n",
    "from zoneinfo import ZoneInfo\n",
    "\n",
    "def get_weather(city: str) -> dict:\n",
    "    \"\"\"Retrieves the current weather report for a specified city.\n",
    "\n",
    "    Args:\n",
    "        city (str): The name of the city for which to retrieve the weather report.\n",
    "\n",
    "    Returns:\n",
    "        dict: status and result or error msg.\n",
    "    \"\"\"\n",
    "    if city.lower() == \"new york\":\n",
    "        return {\n",
    "            \"status\": \"success\",\n",
    "            \"report\": (\n",
    "                \"The weather in New York is sunny with a temperature of 25 degrees\"\n",
    "                \" Celsius (41 degrees Fahrenheit).\"\n",
    "            ),\n",
    "        }\n",
    "    else:\n",
    "        return {\n",
    "            \"status\": \"error\",\n",
    "            \"error_message\": f\"Weather information for '{city}' is not available.\",\n",
    "        }\n",
    "\n",
    "\n",
    "def get_current_time(city: str) -> dict:\n",
    "    \"\"\"Returns the current time in a specified city.\n",
    "\n",
    "    Args:\n",
    "        city (str): The name of the city for which to retrieve the current time.\n",
    "\n",
    "    Returns:\n",
    "        dict: status and result or error msg.\n",
    "    \"\"\"\n",
    "\n",
    "    if city.lower() == \"new york\":\n",
    "        tz_identifier = \"America/New_York\"\n",
    "    else:\n",
    "        return {\n",
    "            \"status\": \"error\",\n",
    "            \"error_message\": (\n",
    "                f\"Sorry, I don't have timezone information for {city}.\"\n",
    "            ),\n",
    "        }\n",
    "\n",
    "    tz = ZoneInfo(tz_identifier)\n",
    "    now = datetime.datetime.now(tz)\n",
    "    report = (\n",
    "        f'The current time in {city} is {now.strftime(\"%Y-%m-%d %H:%M:%S %Z%z\")}'\n",
    "    )\n",
    "    return {\"status\": \"success\", \"report\": report}"
   ]
  },
  {
   "cell_type": "code",
   "execution_count": 5,
   "metadata": {},
   "outputs": [],
   "source": [
    "from google.adk.agents import Agent\n",
    "from google.adk.models.lite_llm import LiteLlm\n",
    "\n",
    "try:\n",
    "    root_agent = Agent(\n",
    "        name=\"weather_time_agent\",\n",
    "        model=LiteLlm(\"gemini/gemini-2.0-flash\"),\n",
    "        description=(\n",
    "            \"Agent to answer questions about the time and weather in a city.\"\n",
    "        ),\n",
    "        instruction=(\n",
    "            \"You are a helpful agent who can answer user questions about the time and weather in a city.\"\n",
    "        ),\n",
    "        tools=[get_weather, get_current_time],\n",
    "    )\n",
    "except Exception as e:\n",
    "    print(f\"Counld not create Agent. Error: {e}\")"
   ]
  },
  {
   "cell_type": "code",
   "execution_count": 6,
   "metadata": {},
   "outputs": [],
   "source": [
    "from google.adk.sessions import InMemorySessionService\n",
    "\n",
    "session_service = InMemorySessionService()\n",
    "\n",
    "session = session_service.create_session(\n",
    "    app_name=\"weather_time_agent\",\n",
    "    user_id=\"user_1\",\n",
    "    session_id=\"session_1\"\n",
    ")"
   ]
  },
  {
   "cell_type": "code",
   "execution_count": 7,
   "metadata": {},
   "outputs": [],
   "source": [
    "from google.adk.runners import Runner\n",
    "\n",
    "runner = Runner(\n",
    "    agent=root_agent,\n",
    "    app_name=\"weather_time_agent\",\n",
    "    session_service=session_service,\n",
    ")"
   ]
  },
  {
   "cell_type": "code",
   "execution_count": 8,
   "metadata": {},
   "outputs": [],
   "source": [
    "import asyncio\n",
    "from google.genai import types\n",
    "\n",
    "async def call_agent_async(query: str):\n",
    "    \"\"\"Sends a query to the agent and prints the final response.\"\"\"\n",
    "    print(f\"\\n>>> User Query: {query}\")\n",
    "\n",
    "    # Prepare the user's message in ADK format\n",
    "    content = types.Content(role='user', parts=[types.Part(text=query)])\n",
    "\n",
    "    final_response_text = \"Agent did not produce a final response.\" # Default\n",
    "\n",
    "    # Key Concept: run_async executes the agent logic and yields Events.\n",
    "    # We iterate through events to find the final answer.\n",
    "    async for event in runner.run_async(user_id=\"user_1\", session_id=\"session_1\", new_message=content):\n",
    "        # You can uncomment the line below to see *all* events during execution\n",
    "        # print(f\"  [Event] Author: {event.author}, Type: {type(event).__name__}, Final: {event.is_final_response()}, Content: {event.content}\")\n",
    "\n",
    "        # Key Concept: is_final_response() marks the concluding message for the turn.\n",
    "        if event.is_final_response():\n",
    "            if event.content and event.content.parts:\n",
    "                # Assuming text response in the first part\n",
    "                final_response_text = event.content.parts[0].text\n",
    "            elif event.actions and event.actions.escalate: # Handle potential errors/escalations\n",
    "                final_response_text = f\"Agent escalated: {event.error_message or 'No specific message.'}\"\n",
    "            # Add more checks here if needed (e.g., specific error codes)\n",
    "            break # Stop processing events once the final response is found\n",
    "\n",
    "    print(f\"<<< Agent Response: {final_response_text}\")"
   ]
  },
  {
   "cell_type": "code",
   "execution_count": 9,
   "metadata": {},
   "outputs": [
    {
     "name": "stdout",
     "output_type": "stream",
     "text": [
      "\n",
      ">>> User Query: What is the weather like in London?\n",
      "<<< Agent Response: I am sorry, I cannot get the weather information for London. There was an error.\n",
      "\n",
      ">>> User Query: How about Paris?\n",
      "<<< Agent Response: I am sorry, I cannot get the weather information for Paris. There was an error.\n",
      "\n",
      ">>> User Query: Tell me the weather in New York\n",
      "<<< Agent Response: OK. The weather in New York is sunny with a temperature of 25 degrees Celsius (41 degrees Fahrenheit).\n",
      "\n",
      "\n",
      ">>> User Query: What time is it in New York?\n",
      "<<< Agent Response: The current time in New York is 2025-04-20 11:30:19 EDT-0400.\n"
     ]
    }
   ],
   "source": [
    "async def run_conversation():\n",
    "    await call_agent_async(\"What is the weather like in London?\")\n",
    "    await call_agent_async(\"How about Paris?\") # Expecting the tool's error message\n",
    "    await call_agent_async(\"Tell me the weather in New York\")\n",
    "    await call_agent_async(\"What time is it in New York?\")\n",
    "\n",
    "# Execute the conversation using await in an async context (like Colab/Jupyter)\n",
    "await run_conversation()"
   ]
  }
 ],
 "metadata": {
  "kernelspec": {
   "display_name": ".venv",
   "language": "python",
   "name": "python3"
  },
  "language_info": {
   "codemirror_mode": {
    "name": "ipython",
    "version": 3
   },
   "file_extension": ".py",
   "mimetype": "text/x-python",
   "name": "python",
   "nbconvert_exporter": "python",
   "pygments_lexer": "ipython3",
   "version": "3.11.11"
  }
 },
 "nbformat": 4,
 "nbformat_minor": 2
}
